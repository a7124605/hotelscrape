{
 "cells": [
  {
   "cell_type": "code",
   "execution_count": 11,
   "metadata": {},
   "outputs": [
    {
     "name": "stdout",
     "output_type": "stream",
     "text": [
      "File: 2023-09-28_google_reviews.csv contains 22 hotels' data.\n",
      "File: 2023-10-02_google_reviews.csv contains 23 hotels' data.\n",
      "File: 2023-10-09_google_reviews.csv contains 23 hotels' data.\n",
      "File: 2023-10-16_google_reviews.csv contains 23 hotels' data.\n",
      "File: 2023-10-24_google_reviews.csv contains 23 hotels' data.\n",
      "File: 2023-10-30_google_reviews.csv contains 23 hotels' data.\n",
      "File: 2023-11-01_google_reviews.csv contains 23 hotels' data.\n",
      "File: 2023-11-06_google_reviews.csv contains 23 hotels' data.\n",
      "File: 2023-11-13_google_reviews.csv contains 23 hotels' data.\n",
      "File: 2023-11-20_google_reviews.csv contains 23 hotels' data.\n",
      "File: 2023-11-27_google_reviews.csv contains 23 hotels' data.\n",
      "File: 2023-12-04_google_reviews.csv contains 23 hotels' data.\n",
      "File: 2023-12-12_google_reviews.csv contains 23 hotels' data.\n",
      "File: 2023-12-13_google_reviews.csv contains 23 hotels' data.\n",
      "File: 2023-12-25_google_reviews.csv contains 23 hotels' data.\n",
      "File: 2024-01-01_google_reviews.csv contains 22 hotels' data.\n",
      "File: 2024-01-08_google_reviews.csv contains 23 hotels' data.\n",
      "File: 2024-01-15_google_reviews.csv contains 22 hotels' data.\n",
      "File: 2024-01-16~29_google_reviews.csv contains 22 hotels' data.\n",
      "File: 2024-02-05_google_reviews.csv contains 23 hotels' data.\n",
      "File: 2024-02-07_google_reviews.csv contains 22 hotels' data.\n",
      "File: 2024-02-12_google_reviews.csv contains 21 hotels' data.\n",
      "File: 2024-02-19_google_reviews.csv contains 22 hotels' data.\n"
     ]
    }
   ],
   "source": [
    "import pandas as pd\n",
    "import os\n",
    "import json\n",
    "\n",
    "# 指定包含CSV文件的目录\n",
    "directory = 'D:\\chris_exp\\dataCollection\\exp2\\output'\n",
    "# 初始化一个字典来存储所有文件的结果\n",
    "all_files_results = {}\n",
    "\n",
    "# 遍历指定目录下的所有文件\n",
    "for filename in os.listdir(directory):\n",
    "    if filename.endswith('_google_reviews.csv'):\n",
    "        file_path = os.path.join(directory, filename)\n",
    "        \n",
    "        # 从文件名中提取日期作为键\n",
    "        date_key = filename.split('_')[0]  # 假设文件名格式为 \"YYYY_MM_DD_googlereview.csv\"\n",
    "        \n",
    "        # 读取CSV文件\n",
    "        df = pd.read_csv(file_path, encoding='utf-8')\n",
    "        \n",
    "        # 检查列名是否为'review_rate'或'overall_rate'\n",
    "        if 'review_rate' in df.columns:\n",
    "            rate_column = 'review_rate'\n",
    "        elif 'overall_rate' in df.columns:\n",
    "            rate_column = 'overall_rate'\n",
    "        else:\n",
    "            print(f\"Error: review_rate or overall_rate column not found in {filename}\")\n",
    "            continue\n",
    "        \n",
    "        # 确保review_date列是日期格式\n",
    "        df['review_date'] = pd.to_datetime(df['review_date'])\n",
    "\n",
    "        # 按照酒店和评论日期进行排序\n",
    "        df_sorted = df.sort_values(by=['review_hotel', 'review_date'], ascending=[True, False])\n",
    "\n",
    "        # 对每个酒店选取前五条评论的评分，然后计算平均值\n",
    "        # 对每个酒店选取前五条评论的评分，然后计算平均值\n",
    "        top5_average_rate = df_sorted.groupby('review_hotel').head(5).groupby('review_hotel')[rate_column].mean().round(1)\n",
    "\n",
    "        # 将计算结果转换为字典，并存储在总字典中\n",
    "        all_files_results[date_key] = top5_average_rate.to_dict()\n",
    "\n",
    "        # 计算并打印每个文件中包含的酒店数量\n",
    "        hotels_count = len(top5_average_rate)\n",
    "        print(f\"File: {filename} contains {hotels_count} hotels' data.\")\n"
   ]
  },
  {
   "cell_type": "code",
   "execution_count": 12,
   "metadata": {},
   "outputs": [],
   "source": [
    "# 将最终结果保存为JSON文件\n",
    "json_file_path = 'D:\\chris_exp\\dataCollection\\exp2\\output/expectation_result.json'\n",
    "with open(json_file_path, 'w' ,encoding='utf-8') as json_file:\n",
    "    json.dump(all_files_results, json_file,ensure_ascii=False, indent=4)\n"
   ]
  },
  {
   "cell_type": "code",
   "execution_count": 43,
   "metadata": {},
   "outputs": [],
   "source": [
    "import json\n",
    "\n",
    "# 加载JSON文件\n",
    "json_file_path = 'D:\\chris_exp\\dataCollection\\exp2\\output\\expectation_result.json'\n",
    "with open(json_file_path, 'r', encoding='utf-8') as file:\n",
    "    expectations = json.load(file)\n",
    "\n",
    "# 获取2023-10-02的expectation数据\n",
    "expectation_data = expectations['2023-12-25']\n"
   ]
  },
  {
   "cell_type": "code",
   "execution_count": 44,
   "metadata": {},
   "outputs": [],
   "source": [
    "import pandas as pd\n",
    "import os\n",
    "\n",
    "# 读取CSV文件\n",
    "filename = '2024-01-01_google_reviews.csv'\n",
    "directory = r'D:\\chris_exp\\dataCollection\\exp2\\output'  # 使用原始字符串\n",
    "file_path = os.path.join(directory, filename)\n",
    "df = pd.read_csv(file_path, encoding='utf-8')\n",
    "\n",
    "# 添加一个新列\"expectation\"，初始值设为None\n",
    "df['expectation'] = None\n",
    "\n",
    "# 根据飯店名称填入对应的expectation值\n",
    "for hotel in expectation_data:\n",
    "    if hotel in df['review_hotel'].values:\n",
    "        df.loc[df['review_hotel'] == hotel, 'expectation'] = expectation_data[hotel]\n",
    "\n",
    "# 保存修改后的DataFrame到新的CSV文件\n",
    "new_file_path = os.path.join(directory+\"\\withExpectation\", f'updated_{filename}')  # 为了避免覆盖原文件，建议改变输出文件名\n",
    "df.to_csv(new_file_path, index=False, encoding='utf-8')\n"
   ]
  },
  {
   "cell_type": "code",
   "execution_count": null,
   "metadata": {},
   "outputs": [],
   "source": []
  }
 ],
 "metadata": {
  "kernelspec": {
   "display_name": "DataScience",
   "language": "python",
   "name": "python3"
  },
  "language_info": {
   "codemirror_mode": {
    "name": "ipython",
    "version": 3
   },
   "file_extension": ".py",
   "mimetype": "text/x-python",
   "name": "python",
   "nbconvert_exporter": "python",
   "pygments_lexer": "ipython3",
   "version": "3.10.10"
  }
 },
 "nbformat": 4,
 "nbformat_minor": 2
}
